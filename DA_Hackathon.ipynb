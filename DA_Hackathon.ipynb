{
  "nbformat": 4,
  "nbformat_minor": 0,
  "metadata": {
    "colab": {
      "provenance": []
    },
    "kernelspec": {
      "name": "python3",
      "display_name": "Python 3"
    },
    "language_info": {
      "name": "python"
    }
  },
  "cells": [
    {
      "cell_type": "code",
      "execution_count": 26,
      "metadata": {
        "id": "66YofI75CGAO"
      },
      "outputs": [],
      "source": [
        "import numpy as np\n",
        "import pandas as pd\n",
        "from sklearn.preprocessing import MinMaxScaler, LabelEncoder\n",
        "from sklearn.naive_bayes import MultinomialNB\n",
        "from sklearn.multioutput import MultiOutputClassifier\n",
        "from sklearn.ensemble import RandomForestClassifier"
      ]
    },
    {
      "cell_type": "code",
      "source": [
        "# Load datasets\n",
        "train_data_x = pd.read_csv('training_set_features.csv')\n",
        "test_data_x = pd.read_csv('test_set_features.csv')\n",
        "train_data_y = pd.read_csv('training_set_labels.csv')"
      ],
      "metadata": {
        "id": "AvMmut5JCNl8"
      },
      "execution_count": 27,
      "outputs": []
    },
    {
      "cell_type": "code",
      "source": [
        "# Save respondent_ids from the test set for submission\n",
        "respondent_ids = test_data_x['respondent_id']"
      ],
      "metadata": {
        "id": "Wn80pKkBCS_N"
      },
      "execution_count": 28,
      "outputs": []
    },
    {
      "cell_type": "code",
      "source": [
        "# Drop respondent_id as it's not a feature\n",
        "train_data_x.drop(columns=['respondent_id'], inplace=True)\n",
        "test_data_x.drop(columns=['respondent_id'], inplace=True)"
      ],
      "metadata": {
        "id": "BBn02UD_CZ2j"
      },
      "execution_count": 29,
      "outputs": []
    },
    {
      "cell_type": "code",
      "source": [
        "# Fill missing values in object columns with mode\n",
        "for col in train_data_x.select_dtypes(include='object').columns:\n",
        "    max_occurrence_train = train_data_x[col].mode()[0]\n",
        "    train_data_x[col].fillna(max_occurrence_train, inplace=True)\n",
        "    test_data_x[col].fillna(max_occurrence_train, inplace=True)"
      ],
      "metadata": {
        "id": "2R-XN5ZkCgXv"
      },
      "execution_count": 30,
      "outputs": []
    },
    {
      "cell_type": "code",
      "source": [
        "# Fill missing values in numeric columns with mean or mode for binary columns\n",
        "for col in train_data_x.select_dtypes(include=['float', 'int']).columns:\n",
        "    unique_values_train = train_data_x[col].dropna().unique()\n",
        "    if set(unique_values_train) == {1, 0}:\n",
        "        max_occurrence_train = train_data_x[col].mode()[0]\n",
        "        train_data_x[col].fillna(max_occurrence_train, inplace=True)\n",
        "        test_data_x[col].fillna(max_occurrence_train, inplace=True)\n",
        "    else:\n",
        "        mean_value_train = train_data_x[col].mean()\n",
        "        train_data_x[col].fillna(mean_value_train, inplace=True)\n",
        "        test_data_x[col].fillna(mean_value_train, inplace=True)"
      ],
      "metadata": {
        "id": "WJpyo5pRCmqX"
      },
      "execution_count": 31,
      "outputs": []
    },
    {
      "cell_type": "code",
      "source": [
        "# Min-max scaling numeric columns\n",
        "scaler = MinMaxScaler()\n",
        "numeric_columns = train_data_x.select_dtypes(include=['float', 'int']).columns\n",
        "train_data_x[numeric_columns] = scaler.fit_transform(train_data_x[numeric_columns])\n",
        "test_data_x[numeric_columns] = scaler.transform(test_data_x[numeric_columns])"
      ],
      "metadata": {
        "id": "iI2tZO4hCrSd"
      },
      "execution_count": 32,
      "outputs": []
    },
    {
      "cell_type": "code",
      "source": [
        "# Label encoding for object-type columns\n",
        "label_encoder = LabelEncoder()\n",
        "for col in train_data_x.select_dtypes(include='object').columns:\n",
        "    train_data_x[col] = label_encoder.fit_transform(train_data_x[col])\n",
        "    # Fit the label encoder on the combined data to ensure consistency\n",
        "    test_data_x[col] = label_encoder.transform(test_data_x[col])"
      ],
      "metadata": {
        "id": "7TEHUKRrCupC"
      },
      "execution_count": 33,
      "outputs": []
    },
    {
      "cell_type": "code",
      "source": [
        "# Prepare the model\n",
        "model = MultiOutputClassifier(RandomForestClassifier(random_state=42, n_estimators=100))\n",
        "model.fit(train_data_x, train_data_y[['xyz_vaccine', 'seasonal_vaccine']])"
      ],
      "metadata": {
        "colab": {
          "base_uri": "https://localhost:8080/",
          "height": 118
        },
        "id": "oeEhPcEHCwm0",
        "outputId": "2640f791-5155-4c0e-b715-e35e9b08516a"
      },
      "execution_count": 34,
      "outputs": [
        {
          "output_type": "execute_result",
          "data": {
            "text/plain": [
              "MultiOutputClassifier(estimator=RandomForestClassifier(random_state=42))"
            ],
            "text/html": [
              "<style>#sk-container-id-2 {color: black;background-color: white;}#sk-container-id-2 pre{padding: 0;}#sk-container-id-2 div.sk-toggleable {background-color: white;}#sk-container-id-2 label.sk-toggleable__label {cursor: pointer;display: block;width: 100%;margin-bottom: 0;padding: 0.3em;box-sizing: border-box;text-align: center;}#sk-container-id-2 label.sk-toggleable__label-arrow:before {content: \"▸\";float: left;margin-right: 0.25em;color: #696969;}#sk-container-id-2 label.sk-toggleable__label-arrow:hover:before {color: black;}#sk-container-id-2 div.sk-estimator:hover label.sk-toggleable__label-arrow:before {color: black;}#sk-container-id-2 div.sk-toggleable__content {max-height: 0;max-width: 0;overflow: hidden;text-align: left;background-color: #f0f8ff;}#sk-container-id-2 div.sk-toggleable__content pre {margin: 0.2em;color: black;border-radius: 0.25em;background-color: #f0f8ff;}#sk-container-id-2 input.sk-toggleable__control:checked~div.sk-toggleable__content {max-height: 200px;max-width: 100%;overflow: auto;}#sk-container-id-2 input.sk-toggleable__control:checked~label.sk-toggleable__label-arrow:before {content: \"▾\";}#sk-container-id-2 div.sk-estimator input.sk-toggleable__control:checked~label.sk-toggleable__label {background-color: #d4ebff;}#sk-container-id-2 div.sk-label input.sk-toggleable__control:checked~label.sk-toggleable__label {background-color: #d4ebff;}#sk-container-id-2 input.sk-hidden--visually {border: 0;clip: rect(1px 1px 1px 1px);clip: rect(1px, 1px, 1px, 1px);height: 1px;margin: -1px;overflow: hidden;padding: 0;position: absolute;width: 1px;}#sk-container-id-2 div.sk-estimator {font-family: monospace;background-color: #f0f8ff;border: 1px dotted black;border-radius: 0.25em;box-sizing: border-box;margin-bottom: 0.5em;}#sk-container-id-2 div.sk-estimator:hover {background-color: #d4ebff;}#sk-container-id-2 div.sk-parallel-item::after {content: \"\";width: 100%;border-bottom: 1px solid gray;flex-grow: 1;}#sk-container-id-2 div.sk-label:hover label.sk-toggleable__label {background-color: #d4ebff;}#sk-container-id-2 div.sk-serial::before {content: \"\";position: absolute;border-left: 1px solid gray;box-sizing: border-box;top: 0;bottom: 0;left: 50%;z-index: 0;}#sk-container-id-2 div.sk-serial {display: flex;flex-direction: column;align-items: center;background-color: white;padding-right: 0.2em;padding-left: 0.2em;position: relative;}#sk-container-id-2 div.sk-item {position: relative;z-index: 1;}#sk-container-id-2 div.sk-parallel {display: flex;align-items: stretch;justify-content: center;background-color: white;position: relative;}#sk-container-id-2 div.sk-item::before, #sk-container-id-2 div.sk-parallel-item::before {content: \"\";position: absolute;border-left: 1px solid gray;box-sizing: border-box;top: 0;bottom: 0;left: 50%;z-index: -1;}#sk-container-id-2 div.sk-parallel-item {display: flex;flex-direction: column;z-index: 1;position: relative;background-color: white;}#sk-container-id-2 div.sk-parallel-item:first-child::after {align-self: flex-end;width: 50%;}#sk-container-id-2 div.sk-parallel-item:last-child::after {align-self: flex-start;width: 50%;}#sk-container-id-2 div.sk-parallel-item:only-child::after {width: 0;}#sk-container-id-2 div.sk-dashed-wrapped {border: 1px dashed gray;margin: 0 0.4em 0.5em 0.4em;box-sizing: border-box;padding-bottom: 0.4em;background-color: white;}#sk-container-id-2 div.sk-label label {font-family: monospace;font-weight: bold;display: inline-block;line-height: 1.2em;}#sk-container-id-2 div.sk-label-container {text-align: center;}#sk-container-id-2 div.sk-container {/* jupyter's `normalize.less` sets `[hidden] { display: none; }` but bootstrap.min.css set `[hidden] { display: none !important; }` so we also need the `!important` here to be able to override the default hidden behavior on the sphinx rendered scikit-learn.org. See: https://github.com/scikit-learn/scikit-learn/issues/21755 */display: inline-block !important;position: relative;}#sk-container-id-2 div.sk-text-repr-fallback {display: none;}</style><div id=\"sk-container-id-2\" class=\"sk-top-container\"><div class=\"sk-text-repr-fallback\"><pre>MultiOutputClassifier(estimator=RandomForestClassifier(random_state=42))</pre><b>In a Jupyter environment, please rerun this cell to show the HTML representation or trust the notebook. <br />On GitHub, the HTML representation is unable to render, please try loading this page with nbviewer.org.</b></div><div class=\"sk-container\" hidden><div class=\"sk-item sk-dashed-wrapped\"><div class=\"sk-label-container\"><div class=\"sk-label sk-toggleable\"><input class=\"sk-toggleable__control sk-hidden--visually\" id=\"sk-estimator-id-4\" type=\"checkbox\" ><label for=\"sk-estimator-id-4\" class=\"sk-toggleable__label sk-toggleable__label-arrow\">MultiOutputClassifier</label><div class=\"sk-toggleable__content\"><pre>MultiOutputClassifier(estimator=RandomForestClassifier(random_state=42))</pre></div></div></div><div class=\"sk-parallel\"><div class=\"sk-parallel-item\"><div class=\"sk-item\"><div class=\"sk-label-container\"><div class=\"sk-label sk-toggleable\"><input class=\"sk-toggleable__control sk-hidden--visually\" id=\"sk-estimator-id-5\" type=\"checkbox\" ><label for=\"sk-estimator-id-5\" class=\"sk-toggleable__label sk-toggleable__label-arrow\">estimator: RandomForestClassifier</label><div class=\"sk-toggleable__content\"><pre>RandomForestClassifier(random_state=42)</pre></div></div></div><div class=\"sk-serial\"><div class=\"sk-item\"><div class=\"sk-estimator sk-toggleable\"><input class=\"sk-toggleable__control sk-hidden--visually\" id=\"sk-estimator-id-6\" type=\"checkbox\" ><label for=\"sk-estimator-id-6\" class=\"sk-toggleable__label sk-toggleable__label-arrow\">RandomForestClassifier</label><div class=\"sk-toggleable__content\"><pre>RandomForestClassifier(random_state=42)</pre></div></div></div></div></div></div></div></div></div></div>"
            ]
          },
          "metadata": {},
          "execution_count": 34
        }
      ]
    },
    {
      "cell_type": "code",
      "source": [
        "# Predict probabilities on the test set\n",
        "y_pred_prob = model.predict_proba(test_data_x)\n",
        "print(y_pred_prob)"
      ],
      "metadata": {
        "colab": {
          "base_uri": "https://localhost:8080/",
          "height": 0
        },
        "id": "d-lgYeeMCzYL",
        "outputId": "017d2594-bfea-4acc-ee12-a35c9b402adc"
      },
      "execution_count": 35,
      "outputs": [
        {
          "output_type": "stream",
          "name": "stdout",
          "text": [
            "[array([[0.88, 0.12],\n",
            "       [0.92, 0.08],\n",
            "       [0.52, 0.48],\n",
            "       ...,\n",
            "       [0.86, 0.14],\n",
            "       [0.95, 0.05],\n",
            "       [0.56, 0.44]]), array([[0.66, 0.34],\n",
            "       [0.92, 0.08],\n",
            "       [0.2 , 0.8 ],\n",
            "       ...,\n",
            "       [0.68, 0.32],\n",
            "       [0.64, 0.36],\n",
            "       [0.42, 0.58]])]\n"
          ]
        }
      ]
    },
    {
      "cell_type": "code",
      "source": [
        "# Convert list of tuples to a 2D array\n",
        "y_pred_prob_array = np.array([prob[:, 1] for prob in y_pred_prob]).T"
      ],
      "metadata": {
        "id": "12sRIAdPC1YB"
      },
      "execution_count": 36,
      "outputs": []
    },
    {
      "cell_type": "code",
      "source": [
        "# Create the submission DataFrame with rounded probabilities\n",
        "submission_df = pd.DataFrame({\n",
        "    'respondent_id': respondent_ids,\n",
        "    'xyz_vaccine': np.round(y_pred_prob_array[:, 0], 1),\n",
        "    'seasonal_vaccine': np.round(y_pred_prob_array[:, 1], 1)\n",
        "})\n",
        "\n",
        "print(submission_df.head())\n",
        "# Save the submission DataFrame to a CSV file\n",
        "submission_df.to_csv('submission.csv', index=False)"
      ],
      "metadata": {
        "colab": {
          "base_uri": "https://localhost:8080/",
          "height": 0
        },
        "id": "kNoC2VxcC3Sb",
        "outputId": "63ef9eb1-1758-4c89-c7a0-c768647ef83f"
      },
      "execution_count": 37,
      "outputs": [
        {
          "output_type": "stream",
          "name": "stdout",
          "text": [
            "   respondent_id  xyz_vaccine  seasonal_vaccine\n",
            "0          26707          0.1               0.3\n",
            "1          26708          0.1               0.1\n",
            "2          26709          0.5               0.8\n",
            "3          26710          0.5               0.9\n",
            "4          26711          0.2               0.4\n"
          ]
        }
      ]
    }
  ]
}